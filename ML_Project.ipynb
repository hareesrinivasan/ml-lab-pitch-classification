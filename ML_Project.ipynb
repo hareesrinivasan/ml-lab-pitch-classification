{
 "cells": [
  {
   "cell_type": "markdown",
   "metadata": {},
   "source": [
    "### ML Lab Final Project\n",
    "\n",
    "Jesse Moore<br>\n",
    "Kyrill Rekun<br>\n",
    "Haree Srinivasan"
   ]
  },
  {
   "cell_type": "code",
   "execution_count": 112,
   "metadata": {},
   "outputs": [],
   "source": [
    "import numpy as np\n",
    "import pandas as pd\n",
    "from sklearn.compose import ColumnTransformer\n",
    "from sklearn.ensemble import RandomForestClassifier\n",
    "from sklearn.metrics import f1_score\n",
    "from sklearn.model_selection import cross_val_score\n",
    "from sklearn.model_selection import KFold\n",
    "from sklearn.model_selection import RandomizedSearchCV\n",
    "from sklearn.model_selection import train_test_split\n",
    "from sklearn.pipeline import Pipeline\n",
    "from sklearn.preprocessing import OneHotEncoder\n",
    "from sklearn.preprocessing import StandardScaler\n",
    "from sklearn.linear_model import LogisticRegression\n",
    "from sklearn.neighbors import KNeighborsClassifier\n",
    "from sklearn.naive_bayes import GaussianNB\n",
    "from sklearn.svm import SVC\n",
    "from sklearn.metrics import classification_report\n",
    "from rfpimp import *\n",
    "import boto3\n",
    "\n",
    "import warnings\n",
    "warnings.filterwarnings('ignore')"
   ]
  },
  {
   "cell_type": "markdown",
   "metadata": {},
   "source": [
    "### Data:\n",
    "\n",
    "Pitches and Atbats: https://www.kaggle.com/pschale/mlb-pitch-data-20152018"
   ]
  },
  {
   "cell_type": "code",
   "execution_count": 113,
   "metadata": {},
   "outputs": [],
   "source": [
    "client = boto3.client('s3') #low-level functional API"
   ]
  },
  {
   "cell_type": "code",
   "execution_count": 114,
   "metadata": {},
   "outputs": [
    {
     "data": {
      "text/html": [
       "<div>\n",
       "<style scoped>\n",
       "    .dataframe tbody tr th:only-of-type {\n",
       "        vertical-align: middle;\n",
       "    }\n",
       "\n",
       "    .dataframe tbody tr th {\n",
       "        vertical-align: top;\n",
       "    }\n",
       "\n",
       "    .dataframe thead th {\n",
       "        text-align: right;\n",
       "    }\n",
       "</style>\n",
       "<table border=\"1\" class=\"dataframe\">\n",
       "  <thead>\n",
       "    <tr style=\"text-align: right;\">\n",
       "      <th></th>\n",
       "      <th>ab_id</th>\n",
       "      <th>batter_id</th>\n",
       "      <th>event</th>\n",
       "      <th>g_id</th>\n",
       "      <th>inning</th>\n",
       "      <th>o</th>\n",
       "      <th>p_score</th>\n",
       "      <th>p_throws</th>\n",
       "      <th>pitcher_id</th>\n",
       "      <th>stand</th>\n",
       "      <th>top</th>\n",
       "    </tr>\n",
       "  </thead>\n",
       "  <tbody>\n",
       "    <tr>\n",
       "      <td>0</td>\n",
       "      <td>2015000001</td>\n",
       "      <td>572761</td>\n",
       "      <td>Groundout</td>\n",
       "      <td>201500001</td>\n",
       "      <td>1</td>\n",
       "      <td>1</td>\n",
       "      <td>0</td>\n",
       "      <td>L</td>\n",
       "      <td>452657</td>\n",
       "      <td>L</td>\n",
       "      <td>True</td>\n",
       "    </tr>\n",
       "    <tr>\n",
       "      <td>1</td>\n",
       "      <td>2015000002</td>\n",
       "      <td>518792</td>\n",
       "      <td>Double</td>\n",
       "      <td>201500001</td>\n",
       "      <td>1</td>\n",
       "      <td>1</td>\n",
       "      <td>0</td>\n",
       "      <td>L</td>\n",
       "      <td>452657</td>\n",
       "      <td>L</td>\n",
       "      <td>True</td>\n",
       "    </tr>\n",
       "    <tr>\n",
       "      <td>2</td>\n",
       "      <td>2015000003</td>\n",
       "      <td>407812</td>\n",
       "      <td>Single</td>\n",
       "      <td>201500001</td>\n",
       "      <td>1</td>\n",
       "      <td>1</td>\n",
       "      <td>0</td>\n",
       "      <td>L</td>\n",
       "      <td>452657</td>\n",
       "      <td>R</td>\n",
       "      <td>True</td>\n",
       "    </tr>\n",
       "    <tr>\n",
       "      <td>3</td>\n",
       "      <td>2015000004</td>\n",
       "      <td>425509</td>\n",
       "      <td>Strikeout</td>\n",
       "      <td>201500001</td>\n",
       "      <td>1</td>\n",
       "      <td>2</td>\n",
       "      <td>0</td>\n",
       "      <td>L</td>\n",
       "      <td>452657</td>\n",
       "      <td>R</td>\n",
       "      <td>True</td>\n",
       "    </tr>\n",
       "    <tr>\n",
       "      <td>4</td>\n",
       "      <td>2015000005</td>\n",
       "      <td>571431</td>\n",
       "      <td>Strikeout</td>\n",
       "      <td>201500001</td>\n",
       "      <td>1</td>\n",
       "      <td>3</td>\n",
       "      <td>0</td>\n",
       "      <td>L</td>\n",
       "      <td>452657</td>\n",
       "      <td>L</td>\n",
       "      <td>True</td>\n",
       "    </tr>\n",
       "  </tbody>\n",
       "</table>\n",
       "</div>"
      ],
      "text/plain": [
       "        ab_id  batter_id      event       g_id  inning  o  p_score p_throws  \\\n",
       "0  2015000001     572761  Groundout  201500001       1  1        0        L   \n",
       "1  2015000002     518792     Double  201500001       1  1        0        L   \n",
       "2  2015000003     407812     Single  201500001       1  1        0        L   \n",
       "3  2015000004     425509  Strikeout  201500001       1  2        0        L   \n",
       "4  2015000005     571431  Strikeout  201500001       1  3        0        L   \n",
       "\n",
       "   pitcher_id stand   top  \n",
       "0      452657     L  True  \n",
       "1      452657     L  True  \n",
       "2      452657     R  True  \n",
       "3      452657     R  True  \n",
       "4      452657     L  True  "
      ]
     },
     "execution_count": 114,
     "metadata": {},
     "output_type": "execute_result"
    }
   ],
   "source": [
    "obj = client.get_object(Bucket='ml-lab-project',Key='atbats.csv')\n",
    "atbats = pd.read_csv(obj['Body'])\n",
    "atbats.head()"
   ]
  },
  {
   "cell_type": "code",
   "execution_count": 115,
   "metadata": {},
   "outputs": [
    {
     "data": {
      "text/html": [
       "<div>\n",
       "<style scoped>\n",
       "    .dataframe tbody tr th:only-of-type {\n",
       "        vertical-align: middle;\n",
       "    }\n",
       "\n",
       "    .dataframe tbody tr th {\n",
       "        vertical-align: top;\n",
       "    }\n",
       "\n",
       "    .dataframe thead th {\n",
       "        text-align: right;\n",
       "    }\n",
       "</style>\n",
       "<table border=\"1\" class=\"dataframe\">\n",
       "  <thead>\n",
       "    <tr style=\"text-align: right;\">\n",
       "      <th></th>\n",
       "      <th>px</th>\n",
       "      <th>pz</th>\n",
       "      <th>start_speed</th>\n",
       "      <th>end_speed</th>\n",
       "      <th>spin_rate</th>\n",
       "      <th>spin_dir</th>\n",
       "      <th>break_angle</th>\n",
       "      <th>break_length</th>\n",
       "      <th>break_y</th>\n",
       "      <th>ax</th>\n",
       "      <th>...</th>\n",
       "      <th>event_num</th>\n",
       "      <th>b_score</th>\n",
       "      <th>ab_id</th>\n",
       "      <th>b_count</th>\n",
       "      <th>s_count</th>\n",
       "      <th>outs</th>\n",
       "      <th>pitch_num</th>\n",
       "      <th>on_1b</th>\n",
       "      <th>on_2b</th>\n",
       "      <th>on_3b</th>\n",
       "    </tr>\n",
       "  </thead>\n",
       "  <tbody>\n",
       "    <tr>\n",
       "      <td>0</td>\n",
       "      <td>0.416</td>\n",
       "      <td>2.963</td>\n",
       "      <td>92.9</td>\n",
       "      <td>84.1</td>\n",
       "      <td>2305.052</td>\n",
       "      <td>159.235</td>\n",
       "      <td>-25.0</td>\n",
       "      <td>3.2</td>\n",
       "      <td>23.7</td>\n",
       "      <td>7.665</td>\n",
       "      <td>...</td>\n",
       "      <td>3</td>\n",
       "      <td>0.0</td>\n",
       "      <td>2.015000e+09</td>\n",
       "      <td>0.0</td>\n",
       "      <td>0.0</td>\n",
       "      <td>0.0</td>\n",
       "      <td>1.0</td>\n",
       "      <td>0.0</td>\n",
       "      <td>0.0</td>\n",
       "      <td>0.0</td>\n",
       "    </tr>\n",
       "    <tr>\n",
       "      <td>1</td>\n",
       "      <td>-0.191</td>\n",
       "      <td>2.347</td>\n",
       "      <td>92.8</td>\n",
       "      <td>84.1</td>\n",
       "      <td>2689.935</td>\n",
       "      <td>151.402</td>\n",
       "      <td>-40.7</td>\n",
       "      <td>3.4</td>\n",
       "      <td>23.7</td>\n",
       "      <td>12.043</td>\n",
       "      <td>...</td>\n",
       "      <td>4</td>\n",
       "      <td>0.0</td>\n",
       "      <td>2.015000e+09</td>\n",
       "      <td>0.0</td>\n",
       "      <td>1.0</td>\n",
       "      <td>0.0</td>\n",
       "      <td>2.0</td>\n",
       "      <td>0.0</td>\n",
       "      <td>0.0</td>\n",
       "      <td>0.0</td>\n",
       "    </tr>\n",
       "    <tr>\n",
       "      <td>2</td>\n",
       "      <td>-0.518</td>\n",
       "      <td>3.284</td>\n",
       "      <td>94.1</td>\n",
       "      <td>85.2</td>\n",
       "      <td>2647.972</td>\n",
       "      <td>145.125</td>\n",
       "      <td>-43.7</td>\n",
       "      <td>3.7</td>\n",
       "      <td>23.7</td>\n",
       "      <td>14.368</td>\n",
       "      <td>...</td>\n",
       "      <td>5</td>\n",
       "      <td>0.0</td>\n",
       "      <td>2.015000e+09</td>\n",
       "      <td>0.0</td>\n",
       "      <td>2.0</td>\n",
       "      <td>0.0</td>\n",
       "      <td>3.0</td>\n",
       "      <td>0.0</td>\n",
       "      <td>0.0</td>\n",
       "      <td>0.0</td>\n",
       "    </tr>\n",
       "    <tr>\n",
       "      <td>3</td>\n",
       "      <td>-0.641</td>\n",
       "      <td>1.221</td>\n",
       "      <td>91.0</td>\n",
       "      <td>84.0</td>\n",
       "      <td>1289.590</td>\n",
       "      <td>169.751</td>\n",
       "      <td>-1.3</td>\n",
       "      <td>5.0</td>\n",
       "      <td>23.8</td>\n",
       "      <td>2.104</td>\n",
       "      <td>...</td>\n",
       "      <td>6</td>\n",
       "      <td>0.0</td>\n",
       "      <td>2.015000e+09</td>\n",
       "      <td>0.0</td>\n",
       "      <td>2.0</td>\n",
       "      <td>0.0</td>\n",
       "      <td>4.0</td>\n",
       "      <td>0.0</td>\n",
       "      <td>0.0</td>\n",
       "      <td>0.0</td>\n",
       "    </tr>\n",
       "    <tr>\n",
       "      <td>4</td>\n",
       "      <td>-1.821</td>\n",
       "      <td>2.083</td>\n",
       "      <td>75.4</td>\n",
       "      <td>69.6</td>\n",
       "      <td>1374.569</td>\n",
       "      <td>280.671</td>\n",
       "      <td>18.4</td>\n",
       "      <td>12.0</td>\n",
       "      <td>23.8</td>\n",
       "      <td>-10.280</td>\n",
       "      <td>...</td>\n",
       "      <td>7</td>\n",
       "      <td>0.0</td>\n",
       "      <td>2.015000e+09</td>\n",
       "      <td>1.0</td>\n",
       "      <td>2.0</td>\n",
       "      <td>0.0</td>\n",
       "      <td>5.0</td>\n",
       "      <td>0.0</td>\n",
       "      <td>0.0</td>\n",
       "      <td>0.0</td>\n",
       "    </tr>\n",
       "  </tbody>\n",
       "</table>\n",
       "<p>5 rows × 40 columns</p>\n",
       "</div>"
      ],
      "text/plain": [
       "      px     pz  start_speed  end_speed  spin_rate  spin_dir  break_angle  \\\n",
       "0  0.416  2.963         92.9       84.1   2305.052   159.235        -25.0   \n",
       "1 -0.191  2.347         92.8       84.1   2689.935   151.402        -40.7   \n",
       "2 -0.518  3.284         94.1       85.2   2647.972   145.125        -43.7   \n",
       "3 -0.641  1.221         91.0       84.0   1289.590   169.751         -1.3   \n",
       "4 -1.821  2.083         75.4       69.6   1374.569   280.671         18.4   \n",
       "\n",
       "   break_length  break_y      ax  ...  event_num  b_score         ab_id  \\\n",
       "0           3.2     23.7   7.665  ...          3      0.0  2.015000e+09   \n",
       "1           3.4     23.7  12.043  ...          4      0.0  2.015000e+09   \n",
       "2           3.7     23.7  14.368  ...          5      0.0  2.015000e+09   \n",
       "3           5.0     23.8   2.104  ...          6      0.0  2.015000e+09   \n",
       "4          12.0     23.8 -10.280  ...          7      0.0  2.015000e+09   \n",
       "\n",
       "   b_count  s_count  outs  pitch_num  on_1b  on_2b  on_3b  \n",
       "0      0.0      0.0   0.0        1.0    0.0    0.0    0.0  \n",
       "1      0.0      1.0   0.0        2.0    0.0    0.0    0.0  \n",
       "2      0.0      2.0   0.0        3.0    0.0    0.0    0.0  \n",
       "3      0.0      2.0   0.0        4.0    0.0    0.0    0.0  \n",
       "4      1.0      2.0   0.0        5.0    0.0    0.0    0.0  \n",
       "\n",
       "[5 rows x 40 columns]"
      ]
     },
     "execution_count": 115,
     "metadata": {},
     "output_type": "execute_result"
    }
   ],
   "source": [
    "obj = client.get_object(Bucket='ml-lab-project',Key='pitches.csv')\n",
    "pitches = pd.read_csv(obj['Body'])\n",
    "pitches.head()"
   ]
  },
  {
   "cell_type": "markdown",
   "metadata": {},
   "source": [
    "### Functions for creating a list of pipelines. \n",
    "#### Note that for the sake of reproducibility KNN and SVM are commented out because they take a looooong time to complete on our big dataset"
   ]
  },
  {
   "cell_type": "code",
   "execution_count": 39,
   "metadata": {},
   "outputs": [],
   "source": [
    "def make_pipelines():\n",
    "    \"\"\"Create a pipeline for each of the following algorithms:\n",
    "    1. Logistic Regression\n",
    "    2. k-nearest neighbors (KNN) \n",
    "    3. Naive Bayes (Guassian)\n",
    "    4. Support Vector Machines (SVM)\n",
    "    5. Random Forest™ \n",
    "    \n",
    "    If appropriate, apply StandardScaler before the algorithm.   \n",
    "    Use default hyperparameters.\n",
    "    If an algorithm takes random_state then random_state=42 \n",
    "    \n",
    "    Return a list of all the pipelines.\n",
    "    \"\"\" \n",
    "    pipelines = []\n",
    "    state = 42\n",
    "    \n",
    "    pipelines.append(Pipeline([('sc', StandardScaler()),\n",
    "                               ('LogisticRegression', LogisticRegression(random_state=state,multi_class='auto'))]))\n",
    "    # pipelines.append(Pipeline([('sc', StandardScaler()),('KNeighborsClassifier', KNeighborsClassifier())]))\n",
    "    \n",
    "    # Technically Standard Scaling is not needed for GaussianNB!\n",
    "    pipelines.append(Pipeline([('sc', StandardScaler()),('GaussianNB', GaussianNB())]))\n",
    "    # pipelines.append(Pipeline([('sc', StandardScaler()),('SVC', SVC(random_state=state))]))\n",
    "    pipelines.append(Pipeline([('sc', StandardScaler()),\n",
    "                               ('RandomForestClassifier', RandomForestClassifier(random_state=state))]))\n",
    "    \n",
    "    return pipelines"
   ]
  },
  {
   "cell_type": "markdown",
   "metadata": {},
   "source": [
    "### Functions for sorting pipelines by best performance"
   ]
  },
  {
   "cell_type": "code",
   "execution_count": 4,
   "metadata": {},
   "outputs": [],
   "source": [
    "def sort_models(pipelines, X_data, y_data, metric=f1_score, average='weighted'):\n",
    "    scores = dict()\n",
    "    for pipe in pipelines:\n",
    "        scores[pipe.steps[1][0]] = f1_score(y_data, pipe.predict(X_data),average=average)\n",
    "    scores_sorted = dict(sorted(scores.items(), key = lambda x: x[1], reverse=True))\n",
    "    return scores_sorted"
   ]
  },
  {
   "cell_type": "markdown",
   "metadata": {},
   "source": [
    "# Classifying Pitch Type based on velocity/trajectory data\n",
    "\n",
    "Choose the 4 msot common pitches: Fastball, Changeup, Slider, Curve <br>\n",
    "These 4 pitches are selected because they have different pitch trajectories or different speeds. As we have seen in class too many similar categories makes the model perform much worse.\n",
    "\n",
    "### Data Preprocessing:"
   ]
  },
  {
   "cell_type": "code",
   "execution_count": 105,
   "metadata": {},
   "outputs": [
    {
     "data": {
      "text/html": [
       "<div>\n",
       "<style scoped>\n",
       "    .dataframe tbody tr th:only-of-type {\n",
       "        vertical-align: middle;\n",
       "    }\n",
       "\n",
       "    .dataframe tbody tr th {\n",
       "        vertical-align: top;\n",
       "    }\n",
       "\n",
       "    .dataframe thead th {\n",
       "        text-align: right;\n",
       "    }\n",
       "</style>\n",
       "<table border=\"1\" class=\"dataframe\">\n",
       "  <thead>\n",
       "    <tr style=\"text-align: right;\">\n",
       "      <th></th>\n",
       "      <th>pitch_type_cat</th>\n",
       "      <th>start_speed</th>\n",
       "      <th>end_speed</th>\n",
       "      <th>spin_rate</th>\n",
       "      <th>spin_dir</th>\n",
       "      <th>break_angle</th>\n",
       "      <th>break_length</th>\n",
       "      <th>break_y</th>\n",
       "    </tr>\n",
       "  </thead>\n",
       "  <tbody>\n",
       "    <tr>\n",
       "      <td>0</td>\n",
       "      <td>2</td>\n",
       "      <td>92.9</td>\n",
       "      <td>84.1</td>\n",
       "      <td>2305.052</td>\n",
       "      <td>159.235</td>\n",
       "      <td>-25.0</td>\n",
       "      <td>3.2</td>\n",
       "      <td>23.7</td>\n",
       "    </tr>\n",
       "    <tr>\n",
       "      <td>1</td>\n",
       "      <td>2</td>\n",
       "      <td>92.8</td>\n",
       "      <td>84.1</td>\n",
       "      <td>2689.935</td>\n",
       "      <td>151.402</td>\n",
       "      <td>-40.7</td>\n",
       "      <td>3.4</td>\n",
       "      <td>23.7</td>\n",
       "    </tr>\n",
       "    <tr>\n",
       "      <td>2</td>\n",
       "      <td>2</td>\n",
       "      <td>94.1</td>\n",
       "      <td>85.2</td>\n",
       "      <td>2647.972</td>\n",
       "      <td>145.125</td>\n",
       "      <td>-43.7</td>\n",
       "      <td>3.7</td>\n",
       "      <td>23.7</td>\n",
       "    </tr>\n",
       "    <tr>\n",
       "      <td>3</td>\n",
       "      <td>2</td>\n",
       "      <td>91.0</td>\n",
       "      <td>84.0</td>\n",
       "      <td>1289.590</td>\n",
       "      <td>169.751</td>\n",
       "      <td>-1.3</td>\n",
       "      <td>5.0</td>\n",
       "      <td>23.8</td>\n",
       "    </tr>\n",
       "    <tr>\n",
       "      <td>4</td>\n",
       "      <td>1</td>\n",
       "      <td>75.4</td>\n",
       "      <td>69.6</td>\n",
       "      <td>1374.569</td>\n",
       "      <td>280.671</td>\n",
       "      <td>18.4</td>\n",
       "      <td>12.0</td>\n",
       "      <td>23.8</td>\n",
       "    </tr>\n",
       "  </tbody>\n",
       "</table>\n",
       "</div>"
      ],
      "text/plain": [
       "   pitch_type_cat  start_speed  end_speed  spin_rate  spin_dir  break_angle  \\\n",
       "0               2         92.9       84.1   2305.052   159.235        -25.0   \n",
       "1               2         92.8       84.1   2689.935   151.402        -40.7   \n",
       "2               2         94.1       85.2   2647.972   145.125        -43.7   \n",
       "3               2         91.0       84.0   1289.590   169.751         -1.3   \n",
       "4               1         75.4       69.6   1374.569   280.671         18.4   \n",
       "\n",
       "   break_length  break_y  \n",
       "0           3.2     23.7  \n",
       "1           3.4     23.7  \n",
       "2           3.7     23.7  \n",
       "3           5.0     23.8  \n",
       "4          12.0     23.8  "
      ]
     },
     "execution_count": 105,
     "metadata": {},
     "output_type": "execute_result"
    }
   ],
   "source": [
    "# Filter for only the 4 most common pitches we are interested in.\n",
    "clean_pitch = pitches.loc[(pitches.pitch_type == 'CH') | (pitches.pitch_type == 'CU') | \n",
    "                         (pitches.pitch_type == 'FF') | (pitches.pitch_type == 'SL'),] \n",
    "\n",
    "# Convert Target into numeric categories \n",
    "clean_pitch['pitch_type'] = clean_pitch['pitch_type'].astype('category')\n",
    "clean_pitch['pitch_type_cat'] = clean_pitch['pitch_type'].cat.codes\n",
    "\n",
    "# Take only the features we want to use\n",
    "clean_pitch_df = clean_pitch[['pitch_type_cat','start_speed','end_speed','spin_rate','spin_dir',\n",
    "                          'break_angle','break_length','break_y' ]]\n",
    "\n",
    "\n",
    "clean_pitch_df.head()"
   ]
  },
  {
   "cell_type": "code",
   "execution_count": 95,
   "metadata": {},
   "outputs": [],
   "source": [
    "y = clean_pitch_df['pitch_type_cat']\n",
    "X = clean_pitch_df.drop(['pitch_type_cat'],axis=1)\n",
    "\n",
    "# Split into training and test\n",
    "X_train, X_test,y_train, y_test = train_test_split(X, y, test_size = .2, random_state=42)"
   ]
  },
  {
   "cell_type": "code",
   "execution_count": 40,
   "metadata": {},
   "outputs": [],
   "source": [
    "# Make pipelines\n",
    "pipelines = make_pipelines()"
   ]
  },
  {
   "cell_type": "code",
   "execution_count": 41,
   "metadata": {},
   "outputs": [],
   "source": [
    "# Fit each pipeline\n",
    "for pipe in pipelines:\n",
    "    pipe.fit(X_train, y_train)"
   ]
  },
  {
   "cell_type": "code",
   "execution_count": 42,
   "metadata": {},
   "outputs": [
    {
     "name": "stdout",
     "output_type": "stream",
     "text": [
      "Model: LogisticRegression \n",
      "               precision    recall  f1-score   support\n",
      "\n",
      "           0       0.85      0.70      0.77    234254\n",
      "           1       0.83      0.76      0.79    187433\n",
      "           2       0.95      0.98      0.97    811780\n",
      "           3       0.77      0.85      0.81    360641\n",
      "\n",
      "    accuracy                           0.88   1594108\n",
      "   macro avg       0.85      0.82      0.83   1594108\n",
      "weighted avg       0.88      0.88      0.88   1594108\n",
      " \n",
      "\n",
      "Model: GaussianNB \n",
      "               precision    recall  f1-score   support\n",
      "\n",
      "           0       0.82      0.80      0.81    234254\n",
      "           1       0.76      0.81      0.79    187433\n",
      "           2       0.97      0.97      0.97    811780\n",
      "           3       0.81      0.82      0.81    360641\n",
      "\n",
      "    accuracy                           0.89   1594108\n",
      "   macro avg       0.84      0.85      0.85   1594108\n",
      "weighted avg       0.89      0.89      0.89   1594108\n",
      " \n",
      "\n",
      "Model: RandomForestClassifier \n",
      "               precision    recall  f1-score   support\n",
      "\n",
      "           0       0.99      1.00      0.99    234254\n",
      "           1       0.99      0.99      0.99    187433\n",
      "           2       1.00      1.00      1.00    811780\n",
      "           3       0.99      0.99      0.99    360641\n",
      "\n",
      "    accuracy                           0.99   1594108\n",
      "   macro avg       0.99      0.99      0.99   1594108\n",
      "weighted avg       0.99      0.99      0.99   1594108\n",
      " \n",
      "\n"
     ]
    }
   ],
   "source": [
    "# Print out confusion matrix for each pipeline to see how we did on the training set\n",
    "for pipe in pipelines:\n",
    "    print('Model:', pipe.steps[1][0], '\\n',classification_report(y_train, pipe.predict(X_train)),'\\n')"
   ]
  },
  {
   "cell_type": "markdown",
   "metadata": {},
   "source": [
    "#### To no surpise the best performing model was RandomForest."
   ]
  },
  {
   "cell_type": "code",
   "execution_count": 51,
   "metadata": {},
   "outputs": [],
   "source": [
    "# RandomForest Parameter Tuning, but again it takes forever to finish running \n",
    "rf = RandomForestClassifier(random_state=42)\n",
    "hyperparameters = {\"max_depth\": [3, 4, None], \n",
    "                   \"min_samples_leaf\": [10, 15],\n",
    "                   \"max_features\": [3, 4, 5, None],\n",
    "                   }\n",
    "\n",
    "clf = RandomizedSearchCV(rf, hyperparameters, cv=5, n_iter=5,n_jobs=-1)\n",
    "search = clf.fit(X_train,y_train)\n",
    "search.best_params_"
   ]
  },
  {
   "cell_type": "code",
   "execution_count": 96,
   "metadata": {},
   "outputs": [
    {
     "data": {
      "text/plain": [
       "Pipeline(memory=None,\n",
       "         steps=[('RandomForest',\n",
       "                 RandomForestClassifier(bootstrap=True, class_weight=None,\n",
       "                                        criterion='gini', max_depth=None,\n",
       "                                        max_features='auto',\n",
       "                                        max_leaf_nodes=None,\n",
       "                                        min_impurity_decrease=0.0,\n",
       "                                        min_impurity_split=None,\n",
       "                                        min_samples_leaf=1, min_samples_split=2,\n",
       "                                        min_weight_fraction_leaf=0.0,\n",
       "                                        n_estimators=10, n_jobs=None,\n",
       "                                        oob_score=False, random_state=None,\n",
       "                                        verbose=0, warm_start=False))],\n",
       "         verbose=False)"
      ]
     },
     "execution_count": 96,
     "metadata": {},
     "output_type": "execute_result"
    }
   ],
   "source": [
    "pipe_rf = pipelines[2]\n",
    "pipe_rf.fit(X_train,y_train)"
   ]
  },
  {
   "cell_type": "code",
   "execution_count": 63,
   "metadata": {},
   "outputs": [
    {
     "data": {
      "text/plain": [
       "array([0.92088673, 0.91980304, 0.91985363, 0.92033856, 0.9204207 ])"
      ]
     },
     "execution_count": 63,
     "metadata": {},
     "output_type": "execute_result"
    }
   ],
   "source": [
    "# RandomForest Cross Validation\n",
    "cross_val_score(estimator=pipe_rf, X=X_train, y=y_train, cv=5, scoring='f1_weighted',n_jobs=-1)"
   ]
  },
  {
   "cell_type": "markdown",
   "metadata": {},
   "source": [
    "__Feature Importance:__"
   ]
  },
  {
   "cell_type": "code",
   "execution_count": 106,
   "metadata": {},
   "outputs": [
    {
     "data": {
      "image/png": "[encoded data removed]",
      "text/plain": [
       "<Figure size 288x112.32 with 1 Axes>"
      ]
     },
     "metadata": {
      "needs_background": "light"
     },
     "output_type": "display_data"
    }
   ],
   "source": [
    "imp = importances(pipe_rf, X_train, y_train)\n",
    "viz = plot_importances(imp)\n",
    "viz.view()"
   ]
  },
  {
   "cell_type": "markdown",
   "metadata": {},
   "source": [
    "__Model Evaluation:__\n",
    "\n",
    "F1_score is out \"north star\" metric"
   ]
  },
  {
   "cell_type": "code",
   "execution_count": 64,
   "metadata": {},
   "outputs": [
    {
     "data": {
      "text/plain": [
       "0.99"
      ]
     },
     "execution_count": 64,
     "metadata": {},
     "output_type": "execute_result"
    }
   ],
   "source": [
    "# Training score\n",
    "y_train = np.array(y_train).reshape(-1, 1)\n",
    "y_train_pred = pipe_rf.predict(X_train)\n",
    "f1_train = f1_score(y_train, y_train_pred, average=\"weighted\")\n",
    "round(f1_train, 2)"
   ]
  },
  {
   "cell_type": "code",
   "execution_count": 68,
   "metadata": {},
   "outputs": [
    {
     "data": {
      "text/plain": [
       "0.92"
      ]
     },
     "execution_count": 68,
     "metadata": {},
     "output_type": "execute_result"
    }
   ],
   "source": [
    "# Testing score\n",
    "y_test = np.array(y_test).reshape(-1, 1)\n",
    "y_test_pred = pipe_rf.predict(X_test)\n",
    "f1_test = f1_score(y_test, y_test_pred, average=\"weighted\")\n",
    "round(f1_test, 2)"
   ]
  },
  {
   "cell_type": "markdown",
   "metadata": {},
   "source": [
    "### Classifying Baseball Pitches Sumary:\n",
    "\n",
    "RandomForest was the clearly the best model even with minimal hyper parameter tuning. The most misclassifications occured when decided between a slower fastball vs faster slider with minimal break and curveball vs slower slider with a lot of break. Other than these border cases we think the model did very well. This falls in line with what baseball players see while hitting. They try to guess what pitch is coming based on release point and speed. When they get fooled by pitches it is often times these very same border cases. \n",
    "\n"
   ]
  },
  {
   "cell_type": "markdown",
   "metadata": {},
   "source": [
    "Predicting Fastball or Offspeed\n",
    "=====\n",
    "\"Hard\" pitches: 4-seam fastball, 2-seam fastball, cutter, sinker <br>\n",
    "Offspeed: Curveball, Change-up, Slider, Knuckle Curve, Splitter, Eephus, Screwball, Knuckleball <br>\n",
    "Pitches not considered: pitchouts and intentional balls\n",
    "\n",
    "### Data Preprocessing"
   ]
  },
  {
   "cell_type": "code",
   "execution_count": 71,
   "metadata": {},
   "outputs": [],
   "source": [
    "#Merging dataframes\n",
    "active_df = pitches.merge(atbats, how=\"left\", on=\"ab_id\")\n",
    "\n",
    "#Creating a column that determines the lead the pitcher's team has (negative means the batter's team is winning)\n",
    "active_df[\"p_lead\"] = np.abs(active_df[\"p_score\"] - active_df[\"b_score\"])\n",
    "\n",
    "#eliminate counts with 4 balls (makes no sense)\n",
    "active_df = active_df.loc[active_df['b_count']<4]\n",
    "\n",
    "#get rid of rows where the target is null or unknown\n",
    "active_df = active_df.loc[(active_df[\"pitch_type\"].isna()==False) & (active_df[\"pitch_type\"]!=\"UN\")]\n",
    "\n",
    "#AB is not a documented pitch type; IN, FO, and PO are intentional balls\n",
    "active_df = active_df.loc[(active_df[\"pitch_type\"]!=\"AB\") & (active_df[\"pitch_type\"]!=\"PO\") & (active_df[\"pitch_type\"]!=\"FO\") & (pitches[\"pitch_type\"]!=\"IN\"),:]\n",
    "\n",
    "# Pitches that are considered \"hard\", or thrown at a high velocity\n",
    "hard_pitches = [\"FF\", \"FC\", \"FT\", \"SI\"]\n",
    "\n",
    "# Lower velocity pitches\n",
    "off_speed = [\"CU\", \"CH\", \"SL\", \"KC\", \"EP\", \"FS\", \"KN\", \"SC\"]\n",
    "\n",
    "#Classifying pitches as either fast or slow\n",
    "active_df[\"velo_type\"] = [1 if pitch in hard_pitches else 0 for pitch in active_df.pitch_type]\n",
    "\n",
    "target = active_df[\"velo_type\"]"
   ]
  },
  {
   "cell_type": "code",
   "execution_count": 108,
   "metadata": {},
   "outputs": [],
   "source": [
    "# Split into training and test\n",
    "X_train, X_test, y_train, y_test = train_test_split(active_df, target, test_size=0.25)"
   ]
  },
  {
   "cell_type": "code",
   "execution_count": 109,
   "metadata": {},
   "outputs": [],
   "source": [
    "convert2dummy = [\"b_count\", \"s_count\", \"outs\", \"inning\", \"stand\", \"p_throws\"]\n",
    "c2d_pipe = Pipeline([(\"encoder\", OneHotEncoder())])\n",
    "\n",
    "# Already Dummy variables\n",
    "already_dummy = [\"on_1b\", \"on_2b\", \"on_3b\"]\n",
    "# Numerical feature\n",
    "num_feat = [\"p_lead\"]\n",
    "num_pipe = Pipeline([(\"scaler\", StandardScaler())])\n",
    "\n",
    "preprocessor = ColumnTransformer(transformers=[\n",
    "    (\"num\", num_pipe, num_feat),\n",
    "    (\"c2d\", c2d_pipe, convert2dummy),\n",
    "    (\"already_dummy\", \"passthrough\", already_dummy)])\n",
    "\n",
    "# KNN was again commented out for the sake of runtime and reproducibility.\n",
    "#pipe_knn = (Pipeline([(\"preprocessor\", preprocessor), (\"knn\", KNeighborsClassifier(n_neighbors=5))]))\n",
    "pipe_rf = (Pipeline([(\"preprocessor\", preprocessor),(\"RandomForest\", RandomForestClassifier())]))"
   ]
  },
  {
   "cell_type": "code",
   "execution_count": 110,
   "metadata": {},
   "outputs": [
    {
     "data": {
      "text/plain": [
       "Pipeline(memory=None,\n",
       "         steps=[('preprocessor',\n",
       "                 ColumnTransformer(n_jobs=None, remainder='drop',\n",
       "                                   sparse_threshold=0.3,\n",
       "                                   transformer_weights=None,\n",
       "                                   transformers=[('num',\n",
       "                                                  Pipeline(memory=None,\n",
       "                                                           steps=[('scaler',\n",
       "                                                                   StandardScaler(copy=True,\n",
       "                                                                                  with_mean=True,\n",
       "                                                                                  with_std=True))],\n",
       "                                                           verbose=False),\n",
       "                                                  ['p_lead']),\n",
       "                                                 ('c2d',\n",
       "                                                  Pipeline(memory=None,\n",
       "                                                           steps=[('encoder',\n",
       "                                                                   OneHotEncoder(categorica...\n",
       "                 RandomForestClassifier(bootstrap=True, class_weight=None,\n",
       "                                        criterion='gini', max_depth=None,\n",
       "                                        max_features='auto',\n",
       "                                        max_leaf_nodes=None,\n",
       "                                        min_impurity_decrease=0.0,\n",
       "                                        min_impurity_split=None,\n",
       "                                        min_samples_leaf=1, min_samples_split=2,\n",
       "                                        min_weight_fraction_leaf=0.0,\n",
       "                                        n_estimators=10, n_jobs=None,\n",
       "                                        oob_score=False, random_state=None,\n",
       "                                        verbose=0, warm_start=False))],\n",
       "         verbose=False)"
      ]
     },
     "execution_count": 110,
     "metadata": {},
     "output_type": "execute_result"
    }
   ],
   "source": [
    "pipe_rf.fit(X_train, y_train)"
   ]
  },
  {
   "cell_type": "code",
   "execution_count": 87,
   "metadata": {},
   "outputs": [
    {
     "data": {
      "text/plain": [
       "0.75"
      ]
     },
     "execution_count": 87,
     "metadata": {},
     "output_type": "execute_result"
    }
   ],
   "source": [
    "y_train = np.array(y_train).reshape(-1, 1)\n",
    "y_train_pred_rf = pipe_rf.predict(X_train)\n",
    "f1_train_rf = f1_score(y_train, y_train_pred_rf, average=\"binary\")\n",
    "round(f1_train_rf, 2)"
   ]
  },
  {
   "cell_type": "code",
   "execution_count": null,
   "metadata": {},
   "outputs": [],
   "source": [
    "# RandomForest Parameter Tuning, but again it takes forever to finish running \n",
    "hyperparameters = {\"model__max_depth\": [3, 4, None], \n",
    "                   \"model__min_samples_leaf\": [10, 15],\n",
    "                   \"model__max_features\": [3, 4, 5, None],\n",
    "                   }\n",
    "\n",
    "model_1 = RandomizedSearchCV(pipe1, hyperparameters, cv=5, n_iter=5)\n",
    "search = model_1.fit(X_train1, y_train1)\n",
    "search.best_params_"
   ]
  },
  {
   "cell_type": "markdown",
   "metadata": {},
   "source": [
    "__Feature Importance:__"
   ]
  },
  {
   "cell_type": "code",
   "execution_count": 111,
   "metadata": {},
   "outputs": [
    {
     "data": {
      "image/png": "[encoded data removed]",
      "text/plain": [
       "<Figure size 288x825.12 with 1 Axes>"
      ]
     },
     "metadata": {
      "needs_background": "light"
     },
     "output_type": "display_data"
    }
   ],
   "source": [
    "imp = importances(pipe_rf, X_train, y_train)\n",
    "viz = plot_importances(imp)\n",
    "viz.view()"
   ]
  },
  {
   "cell_type": "code",
   "execution_count": 92,
   "metadata": {},
   "outputs": [
    {
     "data": {
      "text/plain": [
       "array([0.71989327, 0.72027124, 0.72094626, 0.72068486, 0.72041892])"
      ]
     },
     "execution_count": 92,
     "metadata": {},
     "output_type": "execute_result"
    }
   ],
   "source": [
    "# RandomForest Cross Validation\n",
    "cross_val_score(estimator=pipe_rf, X=X_train, y=y_train, cv=5, scoring='f1',n_jobs=-1)"
   ]
  },
  {
   "cell_type": "markdown",
   "metadata": {},
   "source": [
    "__Model Evaluation:__\n",
    "\n",
    "F1_score is out \"north star\" metric"
   ]
  },
  {
   "cell_type": "code",
   "execution_count": 89,
   "metadata": {},
   "outputs": [
    {
     "data": {
      "text/plain": [
       "0.75"
      ]
     },
     "execution_count": 89,
     "metadata": {},
     "output_type": "execute_result"
    }
   ],
   "source": [
    "# Training score\n",
    "y_train = np.array(y_train).reshape(-1, 1)\n",
    "y_train_pred = pipe_rf.predict(X_train)\n",
    "f1_train = f1_score(y_train, y_train_pred, average=\"binary\")\n",
    "round(f1_train, 2)"
   ]
  },
  {
   "cell_type": "code",
   "execution_count": 90,
   "metadata": {},
   "outputs": [
    {
     "data": {
      "text/plain": [
       "0.72"
      ]
     },
     "execution_count": 90,
     "metadata": {},
     "output_type": "execute_result"
    }
   ],
   "source": [
    "# Testing score\n",
    "y_test = np.array(y_test).reshape(-1, 1)\n",
    "y_test_pred = pipe_rf.predict(X_test)\n",
    "f1_test = f1_score(y_test, y_test_pred, average=\"binary\")\n",
    "round(f1_test, 2)"
   ]
  },
  {
   "cell_type": "markdown",
   "metadata": {},
   "source": [
    "### Predicting Fastball or Offspeed Summary:\n",
    "\n",
    "In this scenario our baseline was not a logistic model, but the Houston Astro's cheating scandal which should have a F1_score of close to 1. We were interested in seeing how well a more complex model would perform compared and if data science could have done a comparable job instead of going out and cheating. We got close with F1-score of .76 which is fairly high. Ultimately, we believe we have shown rather than coming up with a cheating scheme with many moving parts, instead you might as well invest all that time, energy, and money into more funding for the analytics department."
   ]
  },
  {
   "cell_type": "markdown",
   "metadata": {},
   "source": [
    "## Project Takeaways: \n",
    "\n",
    "We learned that some models are not ideal for large datasets even if you have only a few features, looking at you KNN/SVM. One thing we could have done differently would have been to split the data into subsets for each team based on what team the pitcher was on. Then we would do the project over for each team subset. This would probably be more accurate and scalable for implementation for an actual MLB team. Similarly, we got lucky that our data was rather clean and RandomForest gave a pretty good model with minimal parameter tuning because even SearchCV with minimal parameters took overnight to complete. If we had more time we could have tried using distributed computing solutions in attempt to speed up this process or took a much smaller subset for tuning purposes. Either way, we can't complain much about our predictions being right 72% of the time from a simple RandomForest model. \n",
    "\n",
    "If only baseball was more open to data science techniques and implementations and wasn't as ingrained in their traditinal ways..."
   ]
  }
 ],
 "metadata": {
  "kernelspec": {
   "display_name": "Python 3",
   "language": "python",
   "name": "python3"
  },
  "language_info": {
   "codemirror_mode": {
    "name": "ipython",
    "version": 3
   },
   "file_extension": ".py",
   "mimetype": "text/x-python",
   "name": "python",
   "nbconvert_exporter": "python",
   "pygments_lexer": "ipython3",
   "version": "3.7.4"
  }
 },
 "nbformat": 4,
 "nbformat_minor": 2
}
